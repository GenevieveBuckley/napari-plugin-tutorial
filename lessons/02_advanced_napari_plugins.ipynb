{
 "cells": [
  {
   "cell_type": "markdown",
   "id": "academic-contact",
   "metadata": {},
   "source": [
    "# Advanced napari plugins"
   ]
  },
  {
   "cell_type": "markdown",
   "id": "binding-change",
   "metadata": {},
   "source": []
  },
  {
   "cell_type": "markdown",
   "id": "streaming-summary",
   "metadata": {},
   "source": [
    "### Fancy things you can do with plugins"
   ]
  },
  {
   "cell_type": "markdown",
   "id": "opened-pearl",
   "metadata": {},
   "source": [
    "What you can do with plugins"
   ]
  },
  {
   "cell_type": "markdown",
   "id": "insured-thanks",
   "metadata": {},
   "source": [
    "### Excercise: Add a keybinding to your image arithmatic plugin"
   ]
  },
  {
   "cell_type": "markdown",
   "id": "fourth-simulation",
   "metadata": {},
   "source": [
    "### Demo: a walkthrough of the affinder plugin\n",
    "\n",
    "Demo the affinder plugin\n",
    "\n",
    "Walk through how the affinder plugin works\n",
    "\n",
    "https://github.com/jni/affinder"
   ]
  },
  {
   "cell_type": "markdown",
   "id": "brown-scene",
   "metadata": {},
   "source": [
    "### Turning your own Qt widget into a napari plugin\n",
    "\n",
    "https://github.com/napari/magicgui"
   ]
  },
  {
   "cell_type": "markdown",
   "id": "illegal-hands",
   "metadata": {},
   "source": [
    "### Questions\n",
    "\n",
    "Time for questions\n"
   ]
  },
  {
   "cell_type": "code",
   "execution_count": null,
   "id": "blessed-surfing",
   "metadata": {},
   "outputs": [],
   "source": []
  }
 ],
 "metadata": {
  "kernelspec": {
   "display_name": "Python 3",
   "language": "python",
   "name": "python3"
  },
  "language_info": {
   "codemirror_mode": {
    "name": "ipython",
    "version": 3
   },
   "file_extension": ".py",
   "mimetype": "text/x-python",
   "name": "python",
   "nbconvert_exporter": "python",
   "pygments_lexer": "ipython3",
   "version": "3.8.6"
  }
 },
 "nbformat": 4,
 "nbformat_minor": 5
}
