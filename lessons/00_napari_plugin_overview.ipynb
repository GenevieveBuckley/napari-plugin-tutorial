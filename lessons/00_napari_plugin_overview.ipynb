{
 "cells": [
  {
   "cell_type": "markdown",
   "id": "supreme-eight",
   "metadata": {},
   "source": [
    "# napari plugin overview"
   ]
  },
  {
   "cell_type": "markdown",
   "id": "social-kruger",
   "metadata": {},
   "source": [
    "## A brief overview of napari"
   ]
  },
  {
   "cell_type": "markdown",
   "id": "unable-seating",
   "metadata": {},
   "source": [
    "What napari is"
   ]
  },
  {
   "cell_type": "markdown",
   "id": "mounted-screening",
   "metadata": {},
   "source": [
    "### Demo: launching napari\n"
   ]
  },
  {
   "cell_type": "code",
   "execution_count": null,
   "id": "outside-spirit",
   "metadata": {},
   "outputs": [],
   "source": []
  },
  {
   "cell_type": "code",
   "execution_count": null,
   "id": "antique-bottom",
   "metadata": {},
   "outputs": [],
   "source": []
  },
  {
   "cell_type": "markdown",
   "id": "painful-workstation",
   "metadata": {},
   "source": [
    "What napari can do"
   ]
  },
  {
   "cell_type": "markdown",
   "id": "geological-composer",
   "metadata": {},
   "source": [
    "## The napari plugin ecosystem"
   ]
  },
  {
   "cell_type": "markdown",
   "id": "motivated-empty",
   "metadata": {},
   "source": [
    "A bit about the napari plugin ecosystem"
   ]
  },
  {
   "cell_type": "markdown",
   "id": "contemporary-demonstration",
   "metadata": {},
   "source": [
    "Some inspiration: examples of other napari plugins"
   ]
  },
  {
   "cell_type": "markdown",
   "id": "minus-alcohol",
   "metadata": {},
   "source": [
    "## Installing plugins"
   ]
  },
  {
   "cell_type": "code",
   "execution_count": null,
   "id": "checked-campbell",
   "metadata": {},
   "outputs": [],
   "source": []
  },
  {
   "cell_type": "markdown",
   "id": "adult-minimum",
   "metadata": {},
   "source": [
    "### Exercise: Installing plugins\n",
    "\n",
    "1. Download this example `.nd2` image file (24.5 MB). This is not a file type napari knows about by default, you can see that \n",
    "\n",
    "2. Install the `napari-nikon-nd2` plugin using the napari GUI. Confirm that you are now able to open the example `.nd2` image in napari \n",
    "\n",
    "3. Uninstall the `napari-nikon-nd2` plugin using the napari GUI.\n",
    "\n",
    "4. Install the `napari-nikon-nd2` reader plugin using `pip`, instead of the napari GUI interface. Do you prefer one way over the other?\n",
    "\n",
    "https://github.com/cwood1967/napari-nikon-nd2"
   ]
  },
  {
   "cell_type": "markdown",
   "id": "varying-father",
   "metadata": {},
   "source": [
    "## Creating a reader plugin"
   ]
  },
  {
   "cell_type": "markdown",
   "id": "reflected-guitar",
   "metadata": {},
   "source": [
    "### Exercise: create a reader plugin for another image file format\n",
    "\n",
    "1. Create your new plugin repository using the [plugin cookiecutter](https://github.com/napari/cookiecutter-napari-plugin)\n",
    "    ```\n",
    "    pip install cookiecutter\n",
    "    cookiecutter https://github.com/napari/cookiecutter-napari-plugin\n",
    "    ```\n",
    "2. Edit the files in your new plugin repository to add the functionality to open the new image file format.\n",
    "3. Try out your new plugin by dragging an dropping an image with that file format onto the napari canvas.\n"
   ]
  },
  {
   "cell_type": "markdown",
   "id": "optical-mother",
   "metadata": {},
   "source": [
    "## Hookspecs\n"
   ]
  },
  {
   "cell_type": "markdown",
   "id": "royal-orlando",
   "metadata": {},
   "source": [
    "What hookspecs are\n",
    "\n",
    "How they work\n",
    "\n",
    "Hookspecs in napari\n",
    "\n",
    "https://napari.org/docs/dev/plugins/hook_specifications.html\n",
    "    "
   ]
  },
  {
   "cell_type": "markdown",
   "id": "remarkable-sydney",
   "metadata": {},
   "source": [
    "## Retrofitting code to become a plugin"
   ]
  },
  {
   "cell_type": "markdown",
   "id": "further-concord",
   "metadata": {},
   "source": [
    "How to turn your existing code into a napari plugin"
   ]
  },
  {
   "cell_type": "code",
   "execution_count": null,
   "id": "explicit-postage",
   "metadata": {},
   "outputs": [],
   "source": []
  }
 ],
 "metadata": {
  "kernelspec": {
   "display_name": "Python 3",
   "language": "python",
   "name": "python3"
  },
  "language_info": {
   "codemirror_mode": {
    "name": "ipython",
    "version": 3
   },
   "file_extension": ".py",
   "mimetype": "text/x-python",
   "name": "python",
   "nbconvert_exporter": "python",
   "pygments_lexer": "ipython3",
   "version": "3.8.6"
  }
 },
 "nbformat": 4,
 "nbformat_minor": 5
}
