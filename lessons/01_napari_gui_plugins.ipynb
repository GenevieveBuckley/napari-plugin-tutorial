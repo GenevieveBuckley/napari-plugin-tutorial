{
 "cells": [
  {
   "cell_type": "markdown",
   "id": "wound-hydrogen",
   "metadata": {},
   "source": [
    "# napari GUI plugins"
   ]
  },
  {
   "cell_type": "markdown",
   "id": "special-zoning",
   "metadata": {},
   "source": []
  },
  {
   "cell_type": "markdown",
   "id": "saving-canada",
   "metadata": {},
   "source": [
    "Some inspiration: examples of other napari plugins"
   ]
  },
  {
   "cell_type": "markdown",
   "id": "adaptive-celebrity",
   "metadata": {},
   "source": []
  },
  {
   "cell_type": "markdown",
   "id": "centered-norfolk",
   "metadata": {},
   "source": [
    "## magicgui"
   ]
  },
  {
   "cell_type": "markdown",
   "id": "stuffed-prize",
   "metadata": {},
   "source": [
    "Introducing magicgui, a project led by Talley Lambert.\n",
    "\n",
    "What magicgui does\n",
    "\n",
    "* Documentation: https://napari.org/magicgui/\n",
    "* Source code: https://github.com/napari/magicgui"
   ]
  },
  {
   "cell_type": "markdown",
   "id": "controversial-edition",
   "metadata": {},
   "source": [
    "Demo: magicgui Snell's law demo"
   ]
  },
  {
   "cell_type": "markdown",
   "id": "federal-canadian",
   "metadata": {},
   "source": [
    "### Exercise: write your own function with magicgui for a different equation\n"
   ]
  },
  {
   "cell_type": "markdown",
   "id": "intimate-animal",
   "metadata": {},
   "source": [
    "## Creating GUI plugins"
   ]
  },
  {
   "cell_type": "markdown",
   "id": "sixth-cross",
   "metadata": {},
   "source": [
    "### Exercise: Create an image arithmetic plugin for napari"
   ]
  },
  {
   "cell_type": "code",
   "execution_count": null,
   "id": "noble-textbook",
   "metadata": {},
   "outputs": [],
   "source": []
  },
  {
   "cell_type": "markdown",
   "id": "comparable-employer",
   "metadata": {},
   "source": [
    "## Finding and fixing problems with plugins"
   ]
  },
  {
   "cell_type": "markdown",
   "id": "featured-anxiety",
   "metadata": {},
   "source": []
  },
  {
   "cell_type": "markdown",
   "id": "cooked-gibson",
   "metadata": {},
   "source": [
    "Find and fix problems with napari plugin setup & registration with the `napari-plugin-devtools` package.\n",
    "\n",
    "https://github.com/napari/napari-plugin-devtools"
   ]
  },
  {
   "cell_type": "markdown",
   "id": "disturbed-concord",
   "metadata": {},
   "source": [
    "### Exercise: \n",
    "\n",
    "1. Pip install the `napari-plugin-devtools`: \n",
    "    ```\n",
    "    pip install napari-plugin-devtools\n",
    "    ```\n",
    "\n",
    "2. Clone [this `napari-demo` repository](https://github.com/ziyangczi/napari-demo)\n",
    "    ```\n",
    "    git clone https://github.com/ziyang/napari-demo.git\n",
    "    cd napari-demo\n",
    "    git fetch --all\n",
    "    ```\n",
    "    This repository contains an image arithmetic plugin like the one you created earlier, **and also has four extra branches where someone has made a mistake setting up the plugin correctly**. It's your job to find and fix these mistakes.\n",
    "\n",
    "\n",
    "3. Make a random choice for which branch you will try to fix first. We can do this with `numpy.random.choice()`:\n"
   ]
  },
  {
   "cell_type": "code",
   "execution_count": null,
   "id": "driven-gross",
   "metadata": {},
   "outputs": [],
   "source": [
    "import numpy as np\n",
    "\n",
    "np.random.choice(['error-1', 'error-2', 'error-3', 'error-4'])"
   ]
  },
  {
   "cell_type": "markdown",
   "id": "sophisticated-error",
   "metadata": {},
   "source": [
    "4. Checkout that branch with git:\n",
    "    ```\n",
    "    git checkout branchname\n",
    "    ```\n",
    "    Here, `branchname` is replaced with either `error-1`, `error-2`, `error-3`, or `error-4`.\n",
    "\n",
    "\n",
    "5. Run the `napari-plugin-devtools` tool on your repository\n",
    "    The documentation for this tool can be found at https://github.com/napari/napari-plugin-devtools\n",
    "\n",
    "\n",
    "6. Try to fix the code so the plugin works again. What caused the problem?\n",
    "\n",
    "\n",
    "If you have time, pick another branch and try to fix that too."
   ]
  },
  {
   "cell_type": "code",
   "execution_count": null,
   "id": "willing-wallace",
   "metadata": {},
   "outputs": [],
   "source": []
  }
 ],
 "metadata": {
  "kernelspec": {
   "display_name": "Python 3",
   "language": "python",
   "name": "python3"
  },
  "language_info": {
   "codemirror_mode": {
    "name": "ipython",
    "version": 3
   },
   "file_extension": ".py",
   "mimetype": "text/x-python",
   "name": "python",
   "nbconvert_exporter": "python",
   "pygments_lexer": "ipython3",
   "version": "3.8.6"
  }
 },
 "nbformat": 4,
 "nbformat_minor": 5
}
